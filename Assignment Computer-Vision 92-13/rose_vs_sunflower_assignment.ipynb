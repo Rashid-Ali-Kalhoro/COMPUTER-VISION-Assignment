{
 "cells": [
  {
   "cell_type": "code",
   "execution_count": 1,
   "metadata": {},
   "outputs": [],
   "source": [
    "import matplotlib.pyplot as plt \n",
    "import tensorflow as tf "
   ]
  },
  {
   "cell_type": "code",
   "execution_count": 7,
   "metadata": {},
   "outputs": [],
   "source": [
    "import os, shutil"
   ]
  },
  {
   "cell_type": "code",
   "execution_count": 10,
   "metadata": {},
   "outputs": [],
   "source": [
    "original_dataset_dir = \"C:/Users/Desktop/Assignment/rose_and_sunflower\""
   ]
  },
  {
   "cell_type": "code",
   "execution_count": 11,
   "metadata": {},
   "outputs": [],
   "source": [
    "base_dir =  \"C:/Users/Desktop/Assignment/rose_and_sunflower/classification_rose_vs_sunflower\"\n",
    "os.mkdir(base_dir)"
   ]
  },
  {
   "cell_type": "code",
   "execution_count": 12,
   "metadata": {},
   "outputs": [],
   "source": [
    "# Directories for the training, validation, and test splits\n",
    "\n",
    "train_dir = os.path.join(base_dir, 'train')\n",
    "os.mkdir(train_dir)\n",
    "\n",
    "validation_dir = os.path.join(base_dir, 'validation')\n",
    "os.mkdir(validation_dir)\n",
    "\n",
    "test_dir = os.path.join(base_dir, 'test')\n",
    "os.mkdir(test_dir)"
   ]
  },
  {
   "cell_type": "code",
   "execution_count": 13,
   "metadata": {},
   "outputs": [],
   "source": [
    "# Directory with training rose pictures\n",
    "\n",
    "train_rose_dir = os.path.join(train_dir, 'rose')\n",
    "os.mkdir(train_rose_dir)"
   ]
  },
  {
   "cell_type": "code",
   "execution_count": 14,
   "metadata": {},
   "outputs": [],
   "source": [
    "# Directory with training sunflower pictures\n",
    "\n",
    "train_sunflower_dir = os.path.join(train_dir, 'sunflower')\n",
    "os.mkdir(train_sunflower_dir)"
   ]
  },
  {
   "cell_type": "code",
   "execution_count": 15,
   "metadata": {},
   "outputs": [],
   "source": [
    "# Directory with validation rose pictures\n",
    "\n",
    "validation_rose_dir = os.path.join(validation_dir, 'rose')\n",
    "os.mkdir(validation_rose_dir)"
   ]
  },
  {
   "cell_type": "code",
   "execution_count": 16,
   "metadata": {},
   "outputs": [],
   "source": [
    "# Directory with validation sunflower pictures\n",
    "\n",
    "validation_sunflower_dir = os.path.join(validation_dir, 'sunflower')\n",
    "os.mkdir(validation_sunflower_dir)"
   ]
  },
  {
   "cell_type": "code",
   "execution_count": 17,
   "metadata": {},
   "outputs": [],
   "source": [
    "# Directory with test rose pictures\n",
    "\n",
    "test_rose_dir = os.path.join(test_dir, 'rose')\n",
    "os.mkdir(test_rose_dir)"
   ]
  },
  {
   "cell_type": "code",
   "execution_count": 44,
   "metadata": {},
   "outputs": [],
   "source": [
    "# Directory with test sunflower pictures\n",
    "\n",
    "test_sunflower_dir = os.path.join(test_dir, 'sunflower')\n",
    "os.mkdir(test_sunflower_dir)"
   ]
  },
  {
   "cell_type": "code",
   "execution_count": 45,
   "metadata": {},
   "outputs": [],
   "source": [
    "# Copies the first 434 rose images to train_rose_dir\n",
    "\n",
    "fnames = ['rose.{}.jpg'.format(i) for i in range(1,435)]\n",
    "for fname in fnames:\n",
    "    src = os.path.join(original_dataset_dir, fname)\n",
    "    dst = os.path.join(train_rose_dir, fname)\n",
    "    shutil.copyfile(src, dst)"
   ]
  },
  {
   "cell_type": "code",
   "execution_count": 46,
   "metadata": {},
   "outputs": [],
   "source": [
    "# Copies the 175 rose images to validation_cats_dir\n",
    "fnames = ['rose.{}.jpg'.format(i) for i in range(435, 610)]\n",
    "for fname in fnames:\n",
    "    src = os.path.join(original_dataset_dir, fname)\n",
    "    dst = os.path.join(validation_rose_dir, fname)\n",
    "    shutil.copyfile(src, dst)"
   ]
  },
  {
   "cell_type": "code",
   "execution_count": 47,
   "metadata": {},
   "outputs": [],
   "source": [
    "#  Copies the next 175 rose images to test_cats_dir\n",
    "\n",
    "fnames = ['rose.{}.jpg'.format(i) for i in range(610, 785)]\n",
    "for fname in fnames:\n",
    "    src = os.path.join(original_dataset_dir, fname)\n",
    "    dst = os.path.join(test_rose_dir, fname)\n",
    "    shutil.copyfile(src, dst)"
   ]
  },
  {
   "cell_type": "code",
   "execution_count": 48,
   "metadata": {},
   "outputs": [],
   "source": [
    "# Copies the first 432 sunflower images to train_sunflower_dir\n",
    "\n",
    "fnames = ['sunflower.{}.jpg'.format(i) for i in range(1, 433)]\n",
    "for fname in fnames:\n",
    "    src = os.path.join(original_dataset_dir, fname)\n",
    "    dst = os.path.join(train_sunflower_dir, fname)\n",
    "    shutil.copyfile(src, dst)\n",
    "    \n",
    "# Copies the next 150 sunflower images to validation_sunflower_dir    \n",
    "\n",
    "fnames = ['sunflower.{}.jpg'.format(i) for i in range(433, 587)]\n",
    "for fname in fnames:\n",
    "    src = os.path.join(original_dataset_dir, fname)\n",
    "    dst = os.path.join(validation_sunflower_dir, fname)\n",
    "    shutil.copyfile(src, dst)\n",
    "    \n",
    "# Copies the next 150 sunflower images to test_sunflower_dir    \n",
    "\n",
    "fnames = ['sunflower.{}.jpg'.format(i) for i in range(587, 733) ]\n",
    "for fname in fnames:\n",
    "    src = os.path.join(original_dataset_dir, fname)\n",
    "    dst = os.path.join(test_sunflower_dir, fname)\n",
    "    shutil.copyfile(src, dst)"
   ]
  },
  {
   "cell_type": "code",
   "execution_count": 54,
   "metadata": {},
   "outputs": [
    {
     "name": "stdout",
     "output_type": "stream",
     "text": [
      "Model: \"sequential_5\"\n",
      "_________________________________________________________________\n",
      "Layer (type)                 Output Shape              Param #   \n",
      "=================================================================\n",
      "conv2d_1 (Conv2D)            (None, 148, 148, 32)      896       \n",
      "_________________________________________________________________\n",
      "max_pooling2d_1 (MaxPooling2 (None, 74, 74, 32)        0         \n",
      "_________________________________________________________________\n",
      "conv2d_2 (Conv2D)            (None, 72, 72, 64)        18496     \n",
      "_________________________________________________________________\n",
      "max_pooling2d_2 (MaxPooling2 (None, 36, 36, 64)        0         \n",
      "_________________________________________________________________\n",
      "conv2d_3 (Conv2D)            (None, 34, 34, 128)       73856     \n",
      "_________________________________________________________________\n",
      "max_pooling2d_3 (MaxPooling2 (None, 17, 17, 128)       0         \n",
      "_________________________________________________________________\n",
      "conv2d_4 (Conv2D)            (None, 15, 15, 128)       147584    \n",
      "_________________________________________________________________\n",
      "max_pooling2d_4 (MaxPooling2 (None, 7, 7, 128)         0         \n",
      "_________________________________________________________________\n",
      "flatten_3 (Flatten)          (None, 6272)              0         \n",
      "_________________________________________________________________\n",
      "dense_5 (Dense)              (None, 512)               3211776   \n",
      "_________________________________________________________________\n",
      "dense_6 (Dense)              (None, 1)                 513       \n",
      "=================================================================\n",
      "Total params: 3,453,121\n",
      "Trainable params: 3,453,121\n",
      "Non-trainable params: 0\n",
      "_________________________________________________________________\n"
     ]
    }
   ],
   "source": [
    "model = models.Sequential()\n",
    "model.add(layers.Conv2D(32, (3, 3), activation='relu',\n",
    "input_shape=(150, 150, 3)))\n",
    "model.add(layers.MaxPooling2D((2, 2)))\n",
    "model.add(layers.Conv2D(64, (3, 3), activation='relu'))\n",
    "model.add(layers.MaxPooling2D((2, 2)))\n",
    "model.add(layers.Conv2D(128, (3, 3), activation='relu'))\n",
    "model.add(layers.MaxPooling2D((2, 2)))\n",
    "model.add(layers.Conv2D(128, (3, 3), activation='relu'))\n",
    "model.add(layers.MaxPooling2D((2, 2)))\n",
    "model.add(layers.Flatten())\n",
    "model.add(layers.Dense(512, activation='relu'))\n",
    "model.add(layers.Dense(1, activation='sigmoid'))\n",
    "\n",
    "model.summary()"
   ]
  },
  {
   "cell_type": "code",
   "execution_count": 55,
   "metadata": {},
   "outputs": [],
   "source": [
    "from keras import optimizers\n",
    "\n",
    "model.compile(loss='binary_crossentropy',\n",
    "              optimizer=optimizers.RMSprop(lr=1e-4),\n",
    "              metrics=['acc'])"
   ]
  },
  {
   "cell_type": "code",
   "execution_count": 59,
   "metadata": {},
   "outputs": [
    {
     "name": "stdout",
     "output_type": "stream",
     "text": [
      "Found 866 images belonging to 2 classes.\n",
      "Found 329 images belonging to 2 classes.\n"
     ]
    }
   ],
   "source": [
    "from keras.preprocessing.image import ImageDataGenerator\n",
    "\n",
    "train_datagen = ImageDataGenerator(rescale=1./255)\n",
    "test_datagen = ImageDataGenerator(rescale=1./255)\n",
    "\n",
    "train_generator = train_datagen.flow_from_directory(\n",
    "        train_dir,\n",
    "        target_size=(150, 150),\n",
    "        batch_size=20,\n",
    "        class_mode='binary')\n",
    "\n",
    "\n",
    "validation_generator = test_datagen.flow_from_directory(\n",
    "        validation_dir,\n",
    "         target_size=(150, 150),\n",
    "         batch_size=20,\n",
    "         class_mode='binary')"
   ]
  },
  {
   "cell_type": "code",
   "execution_count": 60,
   "metadata": {},
   "outputs": [
    {
     "name": "stdout",
     "output_type": "stream",
     "text": [
      "Epoch 1/30\n",
      "100/100 [==============================] - 79s 792ms/step - loss: 0.3626 - acc: 0.8386 - val_loss: 0.1329 - val_acc: 0.8793\n",
      "Epoch 2/30\n",
      "100/100 [==============================] - 80s 798ms/step - loss: 0.2462 - acc: 0.9028 - val_loss: 0.1349 - val_acc: 0.8821\n",
      "Epoch 3/30\n",
      "100/100 [==============================] - 81s 807ms/step - loss: 0.2281 - acc: 0.9065 - val_loss: 0.4723 - val_acc: 0.8780\n",
      "Epoch 4/30\n",
      "100/100 [==============================] - 87s 866ms/step - loss: 0.1790 - acc: 0.9320 - val_loss: 0.1242 - val_acc: 0.8945\n",
      "Epoch 5/30\n",
      "100/100 [==============================] - 82s 823ms/step - loss: 0.1667 - acc: 0.9275 - val_loss: 0.0925 - val_acc: 0.8800\n",
      "Epoch 6/30\n",
      "100/100 [==============================] - 78s 781ms/step - loss: 0.1294 - acc: 0.9523 - val_loss: 0.2002 - val_acc: 0.9193\n",
      "Epoch 7/30\n",
      "100/100 [==============================] - 75s 748ms/step - loss: 0.1200 - acc: 0.9520 - val_loss: 0.1899 - val_acc: 0.9100\n",
      "Epoch 8/30\n",
      "100/100 [==============================] - 74s 745ms/step - loss: 0.1018 - acc: 0.9648 - val_loss: 0.1503 - val_acc: 0.9100\n",
      "Epoch 9/30\n",
      "100/100 [==============================] - 78s 777ms/step - loss: 0.0881 - acc: 0.9688 - val_loss: 0.0532 - val_acc: 0.9100\n",
      "Epoch 10/30\n",
      "100/100 [==============================] - 76s 765ms/step - loss: 0.0771 - acc: 0.9704 - val_loss: 0.0605 - val_acc: 0.9111\n",
      "Epoch 11/30\n",
      "100/100 [==============================] - 76s 758ms/step - loss: 0.0575 - acc: 0.9792 - val_loss: 0.7599 - val_acc: 0.8873\n",
      "Epoch 12/30\n",
      "100/100 [==============================] - 76s 764ms/step - loss: 0.0558 - acc: 0.9817 - val_loss: 0.2714 - val_acc: 0.9080\n",
      "Epoch 13/30\n",
      "100/100 [==============================] - 77s 769ms/step - loss: 0.0376 - acc: 0.9883 - val_loss: 1.2275 - val_acc: 0.9080\n",
      "Epoch 14/30\n",
      "100/100 [==============================] - 77s 766ms/step - loss: 0.0318 - acc: 0.9903 - val_loss: 0.5869 - val_acc: 0.8914\n",
      "Epoch 15/30\n",
      "100/100 [==============================] - 77s 770ms/step - loss: 0.0282 - acc: 0.9899 - val_loss: 0.1804 - val_acc: 0.9297\n",
      "Epoch 16/30\n",
      "100/100 [==============================] - 77s 770ms/step - loss: 0.0247 - acc: 0.9914 - val_loss: 0.6318 - val_acc: 0.9059\n",
      "Epoch 17/30\n",
      "100/100 [==============================] - 76s 765ms/step - loss: 0.0141 - acc: 0.9965 - val_loss: 0.0085 - val_acc: 0.9245\n",
      "Epoch 18/30\n",
      "100/100 [==============================] - 78s 779ms/step - loss: 0.0172 - acc: 0.9939 - val_loss: 0.1382 - val_acc: 0.9192\n",
      "Epoch 19/30\n",
      "100/100 [==============================] - 77s 774ms/step - loss: 0.0192 - acc: 0.9949 - val_loss: 0.6841 - val_acc: 0.9266\n",
      "Epoch 20/30\n",
      "100/100 [==============================] - 79s 792ms/step - loss: 0.0202 - acc: 0.9940 - val_loss: 0.6904 - val_acc: 0.9266\n",
      "Epoch 21/30\n",
      "100/100 [==============================] - 79s 787ms/step - loss: 0.0054 - acc: 0.9980 - val_loss: 0.3018 - val_acc: 0.9080\n",
      "Epoch 22/30\n",
      "100/100 [==============================] - 79s 788ms/step - loss: 0.0106 - acc: 0.9954 - val_loss: 0.2918 - val_acc: 0.9152\n",
      "Epoch 23/30\n",
      "100/100 [==============================] - 77s 771ms/step - loss: 0.0116 - acc: 0.9954 - val_loss: 0.1220 - val_acc: 0.9204\n",
      "Epoch 24/30\n",
      "100/100 [==============================] - 78s 782ms/step - loss: 0.0105 - acc: 0.9964 - val_loss: 0.4324 - val_acc: 0.9214\n",
      "Epoch 25/30\n",
      "100/100 [==============================] - 79s 787ms/step - loss: 0.0239 - acc: 0.9949 - val_loss: 0.9714 - val_acc: 0.8749\n",
      "Epoch 26/30\n",
      "100/100 [==============================] - 79s 787ms/step - loss: 0.0060 - acc: 0.9970 - val_loss: 0.5301 - val_acc: 0.9286\n",
      "Epoch 27/30\n",
      "100/100 [==============================] - 78s 780ms/step - loss: 0.0087 - acc: 0.9985 - val_loss: 0.0222 - val_acc: 0.9131\n",
      "Epoch 28/30\n",
      "100/100 [==============================] - 78s 785ms/step - loss: 0.0032 - acc: 0.9990 - val_loss: 0.8244 - val_acc: 0.9090\n",
      "Epoch 29/30\n",
      "100/100 [==============================] - 78s 776ms/step - loss: 0.0117 - acc: 0.9975 - val_loss: 7.1008e-04 - val_acc: 0.9131\n",
      "Epoch 30/30\n",
      "100/100 [==============================] - 78s 782ms/step - loss: 0.0085 - acc: 0.9970 - val_loss: 0.0087 - val_acc: 0.9131\n"
     ]
    }
   ],
   "source": [
    "history = model.fit_generator(\n",
    "        train_generator,\n",
    "        steps_per_epoch=100,\n",
    "        epochs=30,\n",
    "        validation_data=validation_generator,\n",
    "        validation_steps=50)"
   ]
  },
  {
   "cell_type": "code",
   "execution_count": 62,
   "metadata": {},
   "outputs": [],
   "source": [
    "# Saving the model\n",
    "\n",
    "model.save('rose_vs_sunflower_1.h5')"
   ]
  },
  {
   "cell_type": "code",
   "execution_count": null,
   "metadata": {},
   "outputs": [],
   "source": [
    "# Displaying curves of loss and accuracy during training"
   ]
  },
  {
   "cell_type": "code",
   "execution_count": 63,
   "metadata": {},
   "outputs": [
    {
     "data": {
      "image/png": "[encoded data removed]",
      "text/plain": [
       "<Figure size 432x288 with 1 Axes>"
      ]
     },
     "metadata": {
      "needs_background": "light"
     },
     "output_type": "display_data"
    },
    {
     "data": {
      "image/png": "[encoded data removed]",
      "text/plain": [
       "<Figure size 432x288 with 1 Axes>"
      ]
     },
     "metadata": {
      "needs_background": "light"
     },
     "output_type": "display_data"
    }
   ],
   "source": [
    "import matplotlib.pyplot as plt\n",
    "\n",
    "acc = history.history['acc']\n",
    "val_acc = history.history['val_acc']\n",
    "loss = history.history['loss']\n",
    "val_loss = history.history['val_loss']\n",
    "epochs = range(1, len(acc) + 1)\n",
    "plt.plot(epochs, acc, 'bo', label='Training acc')\n",
    "plt.plot(epochs, val_acc, 'b', label='Validation acc')\n",
    "plt.title('Training and validation accuracy')\n",
    "plt.legend()\n",
    "plt.figure()\n",
    "plt.plot(epochs, loss, 'bo', label='Training loss')\n",
    "plt.plot(epochs, val_loss, 'b', label='Validation loss')\n",
    "plt.title('Training and validation loss')\n",
    "plt.legend()\n",
    "plt.show()"
   ]
  }
 ],
 "metadata": {
  "kernelspec": {
   "display_name": "Python 3",
   "language": "python",
   "name": "python3"
  },
  "language_info": {
   "codemirror_mode": {
    "name": "ipython",
    "version": 3
   },
   "file_extension": ".py",
   "mimetype": "text/x-python",
   "name": "python",
   "nbconvert_exporter": "python",
   "pygments_lexer": "ipython3",
   "version": "3.7.4"
  }
 },
 "nbformat": 4,
 "nbformat_minor": 2
}
