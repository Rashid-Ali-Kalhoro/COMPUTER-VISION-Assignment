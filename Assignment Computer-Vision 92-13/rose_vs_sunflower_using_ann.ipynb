{
 "cells": [
  {
   "cell_type": "code",
   "execution_count": 1,
   "metadata": {},
   "outputs": [],
   "source": [
    "import numpy as np\n",
    "import pandas as pd\n",
    "import matplotlib.pyplot as plt \n",
    "import tensorflow as tf \n",
    "import os, shutil"
   ]
  },
  {
   "cell_type": "code",
   "execution_count": 2,
   "metadata": {},
   "outputs": [],
   "source": [
    "original_dataset_dir = \"C:/Users/Desktop/Assignment/rose_and_sunflower\""
   ]
  },
  {
   "cell_type": "code",
   "execution_count": 3,
   "metadata": {},
   "outputs": [],
   "source": [
    "base_dir =  \"C:/Users/Desktop/Assignment/rose_and_sunflower/classification_rose_vs_sunflower_using_ann\"\n",
    "os.mkdir(base_dir)"
   ]
  },
  {
   "cell_type": "code",
   "execution_count": 4,
   "metadata": {},
   "outputs": [],
   "source": [
    "# Directories for the training, validation, and test splits\n",
    "\n",
    "train_dir = os.path.join(base_dir, 'train')\n",
    "os.mkdir(train_dir)\n",
    "\n",
    "validation_dir = os.path.join(base_dir, 'validation')\n",
    "os.mkdir(validation_dir)\n",
    "\n",
    "test_dir = os.path.join(base_dir, 'test')\n",
    "os.mkdir(test_dir)"
   ]
  },
  {
   "cell_type": "code",
   "execution_count": 5,
   "metadata": {},
   "outputs": [],
   "source": [
    "# Directory with training rose pictures\n",
    "\n",
    "train_rose_dir = os.path.join(train_dir, 'rose')\n",
    "os.mkdir(train_rose_dir)"
   ]
  },
  {
   "cell_type": "code",
   "execution_count": 6,
   "metadata": {},
   "outputs": [],
   "source": [
    "# Directory with training sunflower pictures\n",
    "\n",
    "train_sunflower_dir = os.path.join(train_dir, 'sunflower')\n",
    "os.mkdir(train_sunflower_dir)"
   ]
  },
  {
   "cell_type": "code",
   "execution_count": 7,
   "metadata": {},
   "outputs": [],
   "source": [
    "# Directory with validation rose pictures\n",
    "\n",
    "validation_rose_dir = os.path.join(validation_dir, 'rose')\n",
    "os.mkdir(validation_rose_dir)"
   ]
  },
  {
   "cell_type": "code",
   "execution_count": 8,
   "metadata": {},
   "outputs": [],
   "source": [
    "# Directory with validation sunflower pictures\n",
    "\n",
    "validation_sunflower_dir = os.path.join(validation_dir, 'sunflower')\n",
    "os.mkdir(validation_sunflower_dir)"
   ]
  },
  {
   "cell_type": "code",
   "execution_count": 9,
   "metadata": {},
   "outputs": [],
   "source": [
    "# Directory with test rose pictures\n",
    "\n",
    "test_rose_dir = os.path.join(test_dir, 'rose')\n",
    "os.mkdir(test_rose_dir)"
   ]
  },
  {
   "cell_type": "code",
   "execution_count": 10,
   "metadata": {},
   "outputs": [],
   "source": [
    "# Directory with test sunflower pictures\n",
    "\n",
    "test_sunflower_dir = os.path.join(test_dir, 'sunflower')\n",
    "os.mkdir(test_sunflower_dir)"
   ]
  },
  {
   "cell_type": "code",
   "execution_count": 11,
   "metadata": {},
   "outputs": [],
   "source": [
    "# Copies the first 434 rose images to train_rose_dir\n",
    "\n",
    "fnames = ['rose.{}.jpg'.format(i) for i in range(1,435)]\n",
    "for fname in fnames:\n",
    "    src = os.path.join(original_dataset_dir, fname)\n",
    "    dst = os.path.join(train_rose_dir, fname)\n",
    "    shutil.copyfile(src, dst)"
   ]
  },
  {
   "cell_type": "code",
   "execution_count": 12,
   "metadata": {},
   "outputs": [],
   "source": [
    "# Copies the 175 rose images to validation_cats_dir\n",
    "fnames = ['rose.{}.jpg'.format(i) for i in range(435, 610)]\n",
    "for fname in fnames:\n",
    "    src = os.path.join(original_dataset_dir, fname)\n",
    "    dst = os.path.join(validation_rose_dir, fname)\n",
    "    shutil.copyfile(src, dst)"
   ]
  },
  {
   "cell_type": "code",
   "execution_count": 13,
   "metadata": {},
   "outputs": [],
   "source": [
    "#  Copies the next 175 rose images to test_cats_dir\n",
    "\n",
    "fnames = ['rose.{}.jpg'.format(i) for i in range(610, 785)]\n",
    "for fname in fnames:\n",
    "    src = os.path.join(original_dataset_dir, fname)\n",
    "    dst = os.path.join(test_rose_dir, fname)\n",
    "    shutil.copyfile(src, dst)"
   ]
  },
  {
   "cell_type": "code",
   "execution_count": 14,
   "metadata": {},
   "outputs": [],
   "source": [
    "# Copies the first 432 sunflower images to train_sunflower_dir\n",
    "\n",
    "fnames = ['sunflower.{}.jpg'.format(i) for i in range(1, 433)]\n",
    "for fname in fnames:\n",
    "    src = os.path.join(original_dataset_dir, fname)\n",
    "    dst = os.path.join(train_sunflower_dir, fname)\n",
    "    shutil.copyfile(src, dst)\n",
    "    \n",
    "# Copies the next 150 sunflower images to validation_sunflower_dir    \n",
    "\n",
    "fnames = ['sunflower.{}.jpg'.format(i) for i in range(433, 587)]\n",
    "for fname in fnames:\n",
    "    src = os.path.join(original_dataset_dir, fname)\n",
    "    dst = os.path.join(validation_sunflower_dir, fname)\n",
    "    shutil.copyfile(src, dst)\n",
    "    \n",
    "# Copies the next 150 sunflower images to test_sunflower_dir    \n",
    "\n",
    "fnames = ['sunflower.{}.jpg'.format(i) for i in range(587, 733) ]\n",
    "for fname in fnames:\n",
    "    src = os.path.join(original_dataset_dir, fname)\n",
    "    dst = os.path.join(test_sunflower_dir, fname)\n",
    "    shutil.copyfile(src, dst)"
   ]
  },
  {
   "cell_type": "code",
   "execution_count": 18,
   "metadata": {},
   "outputs": [],
   "source": [
    "from keras import layers\n",
    "from keras import models\n",
    "\n",
    "model = models.Sequential()\n",
    "model.add(layers.Dense(512, activation='relu', input_shape=(150,150,3)))\n",
    "model.add(layers.Flatten())\n",
    "model.add(layers.Dense(1, activation='sigmoid'))"
   ]
  },
  {
   "cell_type": "code",
   "execution_count": 19,
   "metadata": {},
   "outputs": [
    {
     "name": "stdout",
     "output_type": "stream",
     "text": [
      "Model: \"sequential_3\"\n",
      "_________________________________________________________________\n",
      "Layer (type)                 Output Shape              Param #   \n",
      "=================================================================\n",
      "dense_5 (Dense)              (None, 150, 150, 512)     2048      \n",
      "_________________________________________________________________\n",
      "flatten_3 (Flatten)          (None, 11520000)          0         \n",
      "_________________________________________________________________\n",
      "dense_6 (Dense)              (None, 1)                 11520001  \n",
      "=================================================================\n",
      "Total params: 11,522,049\n",
      "Trainable params: 11,522,049\n",
      "Non-trainable params: 0\n",
      "_________________________________________________________________\n"
     ]
    }
   ],
   "source": [
    "model.summary()"
   ]
  },
  {
   "cell_type": "code",
   "execution_count": 20,
   "metadata": {},
   "outputs": [],
   "source": [
    "from keras import optimizers\n",
    "\n",
    "model.compile(loss='binary_crossentropy',\n",
    "              optimizer=optimizers.RMSprop(lr=1e-4),\n",
    "              metrics=['acc'])"
   ]
  },
  {
   "cell_type": "code",
   "execution_count": 21,
   "metadata": {},
   "outputs": [
    {
     "name": "stdout",
     "output_type": "stream",
     "text": [
      "Found 866 images belonging to 2 classes.\n",
      "Found 329 images belonging to 2 classes.\n"
     ]
    }
   ],
   "source": [
    "from keras.preprocessing.image import ImageDataGenerator\n",
    "\n",
    "train_datagen = ImageDataGenerator(rescale=1./255)\n",
    "test_datagen = ImageDataGenerator(rescale=1./255)\n",
    "\n",
    "train_generator = train_datagen.flow_from_directory(\n",
    "        train_dir,\n",
    "        target_size=(150, 150),\n",
    "        batch_size=20,\n",
    "        class_mode='binary')\n",
    "\n",
    "\n",
    "validation_generator = test_datagen.flow_from_directory(\n",
    "        validation_dir,\n",
    "         target_size=(150, 150),\n",
    "         batch_size=20,\n",
    "         class_mode='binary')"
   ]
  },
  {
   "cell_type": "code",
   "execution_count": 22,
   "metadata": {},
   "outputs": [
    {
     "name": "stdout",
     "output_type": "stream",
     "text": [
      "Epoch 1/30\n",
      "100/100 [==============================] - 248s 2s/step - loss: 1.9250 - acc: 0.7717 - val_loss: 0.9812 - val_acc: 0.8538\n",
      "Epoch 2/30\n",
      "100/100 [==============================] - 223s 2s/step - loss: 1.0444 - acc: 0.8474 - val_loss: 0.7752 - val_acc: 0.8831\n",
      "Epoch 3/30\n",
      "100/100 [==============================] - 216s 2s/step - loss: 0.5343 - acc: 0.8963 - val_loss: 0.5074 - val_acc: 0.8335\n",
      "Epoch 4/30\n",
      "100/100 [==============================] - 209s 2s/step - loss: 0.4799 - acc: 0.9163 - val_loss: 0.0267 - val_acc: 0.8687\n",
      "Epoch 5/30\n",
      "100/100 [==============================] - 209s 2s/step - loss: 0.2741 - acc: 0.9448 - val_loss: 0.5557 - val_acc: 0.8687\n",
      "Epoch 6/30\n",
      "100/100 [==============================] - 211s 2s/step - loss: 0.1703 - acc: 0.9562 - val_loss: 1.0848 - val_acc: 0.8707\n",
      "Epoch 7/30\n",
      "100/100 [==============================] - 209s 2s/step - loss: 0.1274 - acc: 0.9719 - val_loss: 1.8093 - val_acc: 0.7963\n",
      "Epoch 8/30\n",
      "100/100 [==============================] - 208s 2s/step - loss: 0.1010 - acc: 0.9755 - val_loss: 1.3124 - val_acc: 0.8407\n",
      "Epoch 9/30\n",
      "100/100 [==============================] - 211s 2s/step - loss: 0.0601 - acc: 0.9844 - val_loss: 2.1726 - val_acc: 0.6815\n",
      "Epoch 10/30\n",
      "100/100 [==============================] - 208s 2s/step - loss: 0.0644 - acc: 0.9842 - val_loss: 0.0868 - val_acc: 0.8707\n",
      "Epoch 11/30\n",
      "100/100 [==============================] - 210s 2s/step - loss: 0.0589 - acc: 0.9878 - val_loss: 0.9025 - val_acc: 0.8656\n",
      "Epoch 12/30\n",
      "100/100 [==============================] - 227s 2s/step - loss: 0.0174 - acc: 0.9965 - val_loss: 0.2995 - val_acc: 0.8594\n",
      "Epoch 13/30\n",
      "100/100 [==============================] - 235s 2s/step - loss: 0.0196 - acc: 0.9934 - val_loss: 0.3700 - val_acc: 0.8511\n",
      "Epoch 14/30\n",
      "100/100 [==============================] - 233s 2s/step - loss: 0.0161 - acc: 0.9959 - val_loss: 0.9863 - val_acc: 0.8676\n",
      "Epoch 15/30\n",
      "100/100 [==============================] - 212s 2s/step - loss: 0.0173 - acc: 0.9939 - val_loss: 0.3606 - val_acc: 0.8769\n",
      "Epoch 16/30\n",
      "100/100 [==============================] - 225s 2s/step - loss: 0.0119 - acc: 0.9970 - val_loss: 0.4414 - val_acc: 0.8635\n",
      "Epoch 17/30\n",
      "100/100 [==============================] - 210s 2s/step - loss: 0.0088 - acc: 0.9974 - val_loss: 2.1663 - val_acc: 0.7580\n",
      "Epoch 18/30\n",
      "100/100 [==============================] - 211s 2s/step - loss: 0.0164 - acc: 0.9954 - val_loss: 0.0896 - val_acc: 0.8640\n",
      "Epoch 19/30\n",
      "100/100 [==============================] - 215s 2s/step - loss: 0.0092 - acc: 0.9980 - val_loss: 0.6277 - val_acc: 0.8656\n",
      "Epoch 20/30\n",
      "100/100 [==============================] - 215s 2s/step - loss: 0.0040 - acc: 0.9980 - val_loss: 0.6152 - val_acc: 0.8356\n",
      "Epoch 21/30\n",
      "100/100 [==============================] - 217s 2s/step - loss: 0.0049 - acc: 0.9990 - val_loss: 1.6315 - val_acc: 0.8480\n",
      "Epoch 22/30\n",
      "100/100 [==============================] - 214s 2s/step - loss: 0.0158 - acc: 0.9975 - val_loss: 0.9409 - val_acc: 0.8501\n",
      "Epoch 23/30\n",
      "100/100 [==============================] - 212s 2s/step - loss: 4.0221e-05 - acc: 1.0000 - val_loss: 2.7287 - val_acc: 0.8418\n",
      "Epoch 24/30\n",
      "100/100 [==============================] - 210s 2s/step - loss: 0.0076 - acc: 0.9980 - val_loss: 0.0122 - val_acc: 0.8645\n",
      "Epoch 25/30\n",
      "100/100 [==============================] - 209s 2s/step - loss: 3.1956e-05 - acc: 1.0000 - val_loss: 0.9908 - val_acc: 0.8552\n",
      "Epoch 26/30\n",
      "100/100 [==============================] - 211s 2s/step - loss: 0.0058 - acc: 0.9980 - val_loss: 0.3139 - val_acc: 0.8718\n",
      "Epoch 27/30\n",
      "100/100 [==============================] - 211s 2s/step - loss: 5.6419e-05 - acc: 1.0000 - val_loss: 2.8343 - val_acc: 0.8666\n",
      "Epoch 28/30\n",
      "100/100 [==============================] - 210s 2s/step - loss: 0.0177 - acc: 0.9954 - val_loss: 1.1003 - val_acc: 0.8666\n",
      "Epoch 29/30\n",
      "100/100 [==============================] - 210s 2s/step - loss: 0.0105 - acc: 0.9985 - val_loss: 0.9393 - val_acc: 0.8438\n",
      "Epoch 30/30\n",
      "100/100 [==============================] - 213s 2s/step - loss: 1.5527e-04 - acc: 1.0000 - val_loss: 1.0954 - val_acc: 0.8656\n"
     ]
    }
   ],
   "source": [
    "history = model.fit_generator(\n",
    "        train_generator,\n",
    "        steps_per_epoch=100,\n",
    "        epochs=30,\n",
    "        validation_data=validation_generator,\n",
    "        validation_steps=50)"
   ]
  },
  {
   "cell_type": "code",
   "execution_count": 23,
   "metadata": {},
   "outputs": [],
   "source": [
    "# Saving the model\n",
    "\n",
    "model.save('rose_vs_sunflower_using_ann.h5')"
   ]
  },
  {
   "cell_type": "code",
   "execution_count": 24,
   "metadata": {},
   "outputs": [
    {
     "data": {
      "image/png": "[encoded data removed]",
      "text/plain": [
       "<Figure size 432x288 with 1 Axes>"
      ]
     },
     "metadata": {
      "needs_background": "light"
     },
     "output_type": "display_data"
    },
    {
     "data": {
      "image/png": "[encoded data removed]",
      "text/plain": [
       "<Figure size 432x288 with 1 Axes>"
      ]
     },
     "metadata": {
      "needs_background": "light"
     },
     "output_type": "display_data"
    }
   ],
   "source": [
    "# Displaying curves of loss and accuracy during training\n",
    "\n",
    "import matplotlib.pyplot as plt\n",
    "\n",
    "acc = history.history['acc']\n",
    "val_acc = history.history['val_acc']\n",
    "loss = history.history['loss']\n",
    "val_loss = history.history['val_loss']\n",
    "epochs = range(1, len(acc) + 1)\n",
    "plt.plot(epochs, acc, 'bo', label='Training acc')\n",
    "plt.plot(epochs, val_acc, 'b', label='Validation acc')\n",
    "plt.title('Training and validation accuracy')\n",
    "plt.legend()\n",
    "plt.figure()\n",
    "plt.plot(epochs, loss, 'bo', label='Training loss')\n",
    "plt.plot(epochs, val_loss, 'b', label='Validation loss')\n",
    "plt.title('Training and validation loss')\n",
    "plt.legend()\n",
    "plt.show()"
   ]
  }
 ],
 "metadata": {
  "kernelspec": {
   "display_name": "Python 3",
   "language": "python",
   "name": "python3"
  },
  "language_info": {
   "codemirror_mode": {
    "name": "ipython",
    "version": 3
   },
   "file_extension": ".py",
   "mimetype": "text/x-python",
   "name": "python",
   "nbconvert_exporter": "python",
   "pygments_lexer": "ipython3",
   "version": "3.7.4"
  }
 },
 "nbformat": 4,
 "nbformat_minor": 2
}
